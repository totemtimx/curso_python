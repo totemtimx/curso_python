{
 "cells": [
  {
   "cell_type": "markdown",
   "id": "cc5b2beb-7766-4617-b8da-ec7e361dbd05",
   "metadata": {},
   "source": [
    "## VARIABLES Y CONSTANTES\n",
    "\n",
    "### 1. Variables básicas\n",
    "Crea las siguientes variables y muestra sus valores:\n",
    "- `nombre`: tu nombre completo\n",
    "- `edad`: tu edad\n",
    "- `altura`: tu altura en metros (decimal)\n",
    "- `es_estudiante`: True o False"
   ]
  },
  {
   "cell_type": "code",
   "execution_count": null,
   "id": "0653d24c-fb1f-4b61-9eb8-6f10ff9baed2",
   "metadata": {},
   "outputs": [],
   "source": []
  },
  {
   "cell_type": "markdown",
   "id": "7b5560f6-8d67-4bf9-806e-d5679a27f535",
   "metadata": {},
   "source": [
    "### 2. Constantes\n",
    "\n",
    "Define las siguientes constantes (usando convención de mayúsculas):\n",
    "- `PI`: 3.14159\n",
    "- `VELOCIDAD_LUZ`: 299792458 (metros por segundo)\n",
    "- `DIAS_SEMANA`: 7\n",
    "\n",
    "Calcula y muestra el área de un círculo con radio 5 usando la constante PI.  (PI * radio ** 2)"
   ]
  },
  {
   "cell_type": "code",
   "execution_count": null,
   "id": "c74e31ab-6a04-470b-ae67-904e2640759c",
   "metadata": {},
   "outputs": [],
   "source": []
  },
  {
   "cell_type": "markdown",
   "id": "af438895-89a2-4cc5-9fbe-26fd31a74097",
   "metadata": {},
   "source": [
    "### 3. Operaciones con variables\n",
    "Dadas las variables `a = 15` y `b = 7`, calcula y muestra:\n",
    "- Suma, resta, multiplicación y división\n",
    "- División entera y módulo\n",
    "- Potencia de a elevado a b"
   ]
  },
  {
   "cell_type": "code",
   "execution_count": null,
   "id": "4bb8b26b-a5bf-4124-b009-25310e49dfe4",
   "metadata": {},
   "outputs": [],
   "source": []
  },
  {
   "cell_type": "markdown",
   "id": "b8f838c9-cb45-4998-a32b-d84777fcd771",
   "metadata": {},
   "source": [
    "### 4. Intercambio de variables\n",
    "\n",
    "Crea dos variables `x = 10` y `y = 20`. Intercambia sus valores e imprime el resultado.\n",
    "\n"
   ]
  },
  {
   "cell_type": "code",
   "execution_count": null,
   "id": "fadf0f3c-efe4-4c61-ab0d-57d13cb4d553",
   "metadata": {},
   "outputs": [],
   "source": [
    "# tu codigo\n",
    "\n",
    "print(f\"a = {a}, b = {b}\")\n",
    "\n",
    "print(f\"Suma: {suma}\")\n",
    "\n",
    "print(f\"Resta: {resta}\")\n",
    "\n",
    "print(f\"Multiplicación: {multiplicacion}\")\n",
    "\n",
    "print(f\"División: {division:.2f}\")\n",
    "\n",
    "print(f\"División entera: {division_entera}\")\n",
    "\n",
    "print(f\"Módulo: {modulo}\")\n",
    "\n",
    "print(f\"Potencia: {potencia}\")"
   ]
  },
  {
   "cell_type": "markdown",
   "id": "ba02d0ef-28ae-4692-a2fc-f81dab3eea6e",
   "metadata": {},
   "source": [
    "### 5. Condicional simple\n",
    "Pide al usuario su edad (usa `input()`) y determina si es:\n",
    "- Menor de edad (< 18)\n",
    "- Adulto joven (18-30)\n",
    "- Adulto (31-60)\n",
    "- Adulto mayor (> 60)"
   ]
  },
  {
   "cell_type": "code",
   "execution_count": null,
   "id": "37a13d09-e3ec-44a0-b4a8-d481fbecebbe",
   "metadata": {},
   "outputs": [],
   "source": []
  },
  {
   "cell_type": "markdown",
   "id": "e6958640-b6d4-4983-b401-eccc382f5357",
   "metadata": {},
   "source": [
    "### 6. Calculadora de descuentos\n",
    "\n",
    "Crea un programa que calcule el precio final de un producto:\n",
    "\n",
    "- Si el precio es mayor a $1000: descuento del 15%\n",
    "\n",
    "- Si está entre 500  y  1000: descuento del 10%\n",
    "\n",
    "- Si es menor a $500: descuento del 5%"
   ]
  },
  {
   "cell_type": "code",
   "execution_count": null,
   "id": "2c6844b0-e001-4d2c-ab68-2960d983666b",
   "metadata": {},
   "outputs": [],
   "source": [
    "precio_original = 750  # Cambia este valor para probar\n",
    "\n",
    "# codigo"
   ]
  },
  {
   "cell_type": "markdown",
   "id": "bb216f10-5cfa-4813-9347-aca30007eb15",
   "metadata": {},
   "source": [
    "### 7. Número par o impar\n",
    "\n",
    "Escribe un programa que determine si un número es par o impar usando el operador módulo."
   ]
  },
  {
   "cell_type": "code",
   "execution_count": null,
   "id": "4790b2cc-b682-4bd9-9649-8fd208891e6b",
   "metadata": {},
   "outputs": [],
   "source": [
    "numero = 17  # Cambia este valor para probar\n",
    "# Tu código aquí"
   ]
  },
  {
   "cell_type": "markdown",
   "id": "3fe70318-bd3e-4157-b7ac-054872879944",
   "metadata": {},
   "source": [
    "\n",
    "### 8. Año bisiesto\n",
    "\n",
    "Determina si un año es bisiesto. Un año es bisiesto si:\n",
    "- Es divisible por 4 Y no es divisible por 100\n",
    "- O es divisible por 400"
   ]
  },
  {
   "cell_type": "code",
   "execution_count": null,
   "id": "299b4be6-0de9-4bc6-8ee8-5ef280e8e052",
   "metadata": {},
   "outputs": [],
   "source": [
    "año = 2024  # Cambia este valor para probar\n",
    "# Tu código aquí"
   ]
  },
  {
   "cell_type": "markdown",
   "id": "c5505ca7-5186-4c35-b507-41d8fa8011bb",
   "metadata": {},
   "source": [
    "### 9. Tabla de multiplicar\n",
    "\n",
    "Genera la tabla de multiplicar del 7 (del 1 al 10) usando un for."
   ]
  },
  {
   "cell_type": "code",
   "execution_count": null,
   "id": "1cf63bda-ded1-495d-b3a0-a676e154cef9",
   "metadata": {},
   "outputs": [],
   "source": []
  },
  {
   "cell_type": "markdown",
   "id": "3fdb7580-cb61-4d86-b2f7-7dfc6955732f",
   "metadata": {},
   "source": [
    "### 10. Patrón de asteriscos\n",
    "Crea un patrón como este usando bucles for:\n",
    "```\n",
    "*\n",
    "**\n",
    "***\n",
    "****\n",
    "*****\n",
    "```"
   ]
  },
  {
   "cell_type": "code",
   "execution_count": null,
   "id": "dd9f4412-733f-4708-8f8d-07a3ce1c1be2",
   "metadata": {},
   "outputs": [],
   "source": []
  },
  {
   "cell_type": "markdown",
   "id": "10a91ae5-36ef-42c1-b2bc-9cb32aad0e6c",
   "metadata": {},
   "source": [
    "### 12. Análisis de lista\n",
    "Dada la lista `numeros = [12, 45, 7, 23, 56, 89, 34, 2, 67, 11]`, encuentra:\n",
    "- El número mayor\n",
    "- El número menor  \n",
    "- El promedio\n",
    "- Cuántos números son mayores a 30\n",
    "\n"
   ]
  },
  {
   "cell_type": "code",
   "execution_count": null,
   "id": "9512947f-a8c6-4b86-b08d-c4890f966369",
   "metadata": {},
   "outputs": [],
   "source": [
    "numeros = [12, 45, 7, 23, 56, 89, 34, 2, 67, 11]\n",
    "\n",
    "# Tu código aquí"
   ]
  },
  {
   "cell_type": "code",
   "execution_count": null,
   "id": "32ddf751-7734-4083-a816-b8b1b2c728fe",
   "metadata": {},
   "outputs": [],
   "source": []
  },
  {
   "cell_type": "markdown",
   "id": "5589996c-cfb4-4fe3-bb37-faf620e3868e",
   "metadata": {},
   "source": [
    "### 13. Contador regresivo\n",
    "\n",
    "Crea un contador regresivo desde 10 hasta 0, mostrando \"¡Despegue!\" al final. Utiliza while\n"
   ]
  },
  {
   "cell_type": "code",
   "execution_count": null,
   "id": "b4ba1cd3-5e50-4916-919f-d84b05338158",
   "metadata": {},
   "outputs": [],
   "source": []
  },
  {
   "cell_type": "markdown",
   "id": "2c597928-5030-47ea-8f88-a4f88ab385f8",
   "metadata": {},
   "source": [
    "### 16. Validación de entrada (1 punto)\n",
    "Pide al usuario que ingrese un número entre 1 y 10. Sigue pidiendo hasta que ingrese un valor válido."
   ]
  },
  {
   "cell_type": "code",
   "execution_count": null,
   "id": "fcf1c5c9-c1bf-4d4b-ac1e-54c760a7ec9e",
   "metadata": {},
   "outputs": [],
   "source": []
  }
 ],
 "metadata": {
  "kernelspec": {
   "display_name": "Python 3 (ipykernel)",
   "language": "python",
   "name": "python3"
  },
  "language_info": {
   "codemirror_mode": {
    "name": "ipython",
    "version": 3
   },
   "file_extension": ".py",
   "mimetype": "text/x-python",
   "name": "python",
   "nbconvert_exporter": "python",
   "pygments_lexer": "ipython3",
   "version": "3.9.6"
  }
 },
 "nbformat": 4,
 "nbformat_minor": 5
}
