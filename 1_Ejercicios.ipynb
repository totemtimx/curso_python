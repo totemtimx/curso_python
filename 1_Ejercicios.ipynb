{
 "cells": [
  {
   "cell_type": "markdown",
   "id": "cc5b2beb-7766-4617-b8da-ec7e361dbd05",
   "metadata": {},
   "source": [
    "## VARIABLES Y CONSTANTES\n",
    "\n",
    "### 1. Variables básicas\n",
    "Crea las siguientes variables y muestra sus valores:\n",
    "- `nombre`: tu nombre completo\n",
    "- `edad`: tu edad\n",
    "- `altura`: tu altura en metros (decimal)\n",
    "- `es_estudiante`: True o False"
   ]
  },
  {
   "cell_type": "code",
   "execution_count": null,
   "id": "0653d24c-fb1f-4b61-9eb8-6f10ff9baed2",
   "metadata": {},
   "outputs": [],
   "source": []
  },
  {
   "cell_type": "markdown",
   "id": "7b5560f6-8d67-4bf9-806e-d5679a27f535",
   "metadata": {},
   "source": [
    "### 2. Constantes\n",
    "\n",
    "Define las siguientes constantes (usando convención de mayúsculas):\n",
    "- `PI`: 3.14159\n",
    "- `VELOCIDAD_LUZ`: 299792458 (metros por segundo)\n",
    "- `DIAS_SEMANA`: 7\n",
    "\n",
    "Calcula y muestra el área de un círculo con radio 5 usando la constante PI.  (PI * radio ** 2)"
   ]
  },
  {
   "cell_type": "code",
   "execution_count": null,
   "id": "c74e31ab-6a04-470b-ae67-904e2640759c",
   "metadata": {},
   "outputs": [],
   "source": []
  },
  {
   "cell_type": "markdown",
   "id": "af438895-89a2-4cc5-9fbe-26fd31a74097",
   "metadata": {},
   "source": [
    "### 3. Operaciones con variables\n",
    "Dadas las variables `a = 15` y `b = 7`, calcula y muestra:\n",
    "- Suma, resta, multiplicación y división\n",
    "- División entera y módulo\n",
    "- Potencia de a elevado a b"
   ]
  },
  {
   "cell_type": "code",
   "execution_count": null,
   "id": "4bb8b26b-a5bf-4124-b009-25310e49dfe4",
   "metadata": {},
   "outputs": [],
   "source": []
  },
  {
   "cell_type": "markdown",
   "id": "b8f838c9-cb45-4998-a32b-d84777fcd771",
   "metadata": {},
   "source": [
    "### 4. Intercambio de variables\n",
    "\n",
    "Crea dos variables `x = 10` y `y = 20`. Intercambia sus valores e imprime el resultado.\n",
    "\n",
    "usar los siguentes print\n",
    "\n",
    "print(f\"a = {a}, b = {b}\")\n",
    "\n",
    "print(f\"Suma: {suma}\")\n",
    "\n",
    "print(f\"Resta: {resta}\")\n",
    "\n",
    "print(f\"Multiplicación: {multiplicacion}\")\n",
    "\n",
    "print(f\"División: {division:.2f}\")\n",
    "\n",
    "print(f\"División entera: {division_entera}\")\n",
    "\n",
    "print(f\"Módulo: {modulo}\")\n",
    "\n",
    "print(f\"Potencia: {potencia}\")"
   ]
  },
  {
   "cell_type": "code",
   "execution_count": null,
   "id": "fadf0f3c-efe4-4c61-ab0d-57d13cb4d553",
   "metadata": {},
   "outputs": [],
   "source": []
  },
  {
   "cell_type": "markdown",
   "id": "ba02d0ef-28ae-4692-a2fc-f81dab3eea6e",
   "metadata": {},
   "source": [
    "### 5. Condicional simple\n",
    "Pide al usuario su edad (usa `input()`) y determina si es:\n",
    "- Menor de edad (< 18)\n",
    "- Adulto joven (18-30)\n",
    "- Adulto (31-60)\n",
    "- Adulto mayor (> 60)"
   ]
  },
  {
   "cell_type": "code",
   "execution_count": null,
   "id": "37a13d09-e3ec-44a0-b4a8-d481fbecebbe",
   "metadata": {},
   "outputs": [],
   "source": []
  },
  {
   "cell_type": "markdown",
   "id": "e6958640-b6d4-4983-b401-eccc382f5357",
   "metadata": {
    "jp-MarkdownHeadingCollapsed": true
   },
   "source": [
    "### 6. Calculadora de descuentos\n",
    "\n",
    "Crea un programa que calcule el precio final de un producto:\n",
    "\n",
    "- Si el precio es mayor a $1000: descuento del 15%\n",
    "\n",
    "- Si está entre 500  y  1000: descuento del 10%\n",
    "\n",
    "- Si es menor a $500: descuento del 5%"
   ]
  }
 ],
 "metadata": {
  "kernelspec": {
   "display_name": "Python 3 (ipykernel)",
   "language": "python",
   "name": "python3"
  },
  "language_info": {
   "codemirror_mode": {
    "name": "ipython",
    "version": 3
   },
   "file_extension": ".py",
   "mimetype": "text/x-python",
   "name": "python",
   "nbconvert_exporter": "python",
   "pygments_lexer": "ipython3",
   "version": "3.9.6"
  }
 },
 "nbformat": 4,
 "nbformat_minor": 5
}
