{
 "cells": [
  {
   "cell_type": "markdown",
   "id": "8934bbae-034f-4bf2-82c0-92f79828b78c",
   "metadata": {},
   "source": [
    "## Calculadora con Funciones\n",
    "Crea funciones para las operaciones básicas (suma, resta, multiplicación, división) y una función principal que permita al usuario elegir la operación y los números.\n",
    "\n",
    "**Requisitos:**\n",
    "- Función `sumar(a, b)`\n",
    "- Función `restar(a, b)`\n",
    "- Función `multiplicar(a, b)`\n",
    "- Función `dividir(a, b)` (manejar división por cero)\n",
    "- Función `calculadora()` que muestre un menú y ejecute la operación elegida"
   ]
  },
  {
   "cell_type": "code",
   "execution_count": null,
   "id": "ba95fa0a-f276-4171-b96e-7d69956de2ac",
   "metadata": {},
   "outputs": [],
   "source": []
  },
  {
   "cell_type": "markdown",
   "id": "474d4a9c-0615-4467-b48a-c0ab748446d0",
   "metadata": {},
   "source": [
    "## Gestor de Lista de Tareas\n",
    "Implementa funciones para gestionar una lista de tareas pendientes.\n",
    "\n",
    "**Requisitos:**\n",
    "- Función `agregar_tarea(lista, tarea)`\n",
    "- Función `completar_tarea(lista, indice)`\n",
    "- Función `eliminar_tarea(lista, indice)`\n",
    "- Función `mostrar_tareas(lista)`\n",
    "- Función `menu_tareas()` que permita interactuar con el sistema"
   ]
  },
  {
   "cell_type": "code",
   "execution_count": null,
   "id": "937e6177-e255-462a-8e81-8bdbe2c0a15b",
   "metadata": {},
   "outputs": [],
   "source": []
  },
  {
   "cell_type": "markdown",
   "id": "0d16b715-3ae4-40ee-ac81-4df1bdb438e3",
   "metadata": {},
   "source": [
    "## Clase Estudiante\n",
    "Diseña una clase para representar estudiantes y gestionar sus calificaciones.\n",
    "\n",
    "**Requisitos:**\n",
    "- Clase `Estudiante` con atributos: nombre, edad, materias (diccionario)\n",
    "- Método `agregar_calificacion(materia, calificacion)`\n",
    "- Método `calcular_promedio()`\n",
    "- Método `obtener_estado()` (Aprobado si promedio >= 6.0, Reprobado si < 6.0)\n",
    "- Método `mostrar_info()`\n"
   ]
  },
  {
   "cell_type": "code",
   "execution_count": null,
   "id": "0a5442f8-a94f-413b-951d-b860c005eaaf",
   "metadata": {},
   "outputs": [],
   "source": []
  },
  {
   "cell_type": "markdown",
   "id": "c9850385-8071-470f-93b5-284491916502",
   "metadata": {},
   "source": [
    "## Gestor de Inventario\n",
    "Diseña un sistema para gestionar el inventario de una tienda.\n",
    "\n",
    "**Requisitos:**\n",
    "- Clase `Producto` con atributos: nombre, precio, cantidad\n",
    "- Clase `Inventario` que gestione múltiples productos\n",
    "- Métodos en `Inventario`:\n",
    "  - `agregar_producto(producto)`\n",
    "  - `actualizar_cantidad(nombre, nueva_cantidad)`\n",
    "  - `buscar_producto(nombre)`\n",
    "  - `valor_total_inventario()`\n",
    "  - `productos_bajo_stock(minimo=5)`"
   ]
  },
  {
   "cell_type": "code",
   "execution_count": null,
   "id": "8188c742-b7b7-4ccb-9f3d-eb3e0e9ec6f2",
   "metadata": {},
   "outputs": [],
   "source": []
  },
  {
   "cell_type": "code",
   "execution_count": null,
   "id": "1497a7f6-d024-4ce2-a04f-ed43f94fd089",
   "metadata": {},
   "outputs": [],
   "source": []
  }
 ],
 "metadata": {
  "kernelspec": {
   "display_name": "Python 3 (ipykernel)",
   "language": "python",
   "name": "python3"
  },
  "language_info": {
   "codemirror_mode": {
    "name": "ipython",
    "version": 3
   },
   "file_extension": ".py",
   "mimetype": "text/x-python",
   "name": "python",
   "nbconvert_exporter": "python",
   "pygments_lexer": "ipython3",
   "version": "3.9.6"
  }
 },
 "nbformat": 4,
 "nbformat_minor": 5
}
