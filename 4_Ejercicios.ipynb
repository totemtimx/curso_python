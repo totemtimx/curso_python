{
 "cells": [
  {
   "cell_type": "markdown",
   "metadata": {},
   "source": [
    "# Ejercicio: Análisis de Datos con Pandas y Visualización con Plotly\n",
    "\n",
    "## Objetivo\n",
    "En este ejercicio aprenderás a:\n",
    "- Cargar datos desde un archivo CSV usando pandas\n",
    "- Limpiar y preparar datos para análisis\n",
    "- Convertir tipos de datos, especialmente fechas\n",
    "- Crear visualizaciones interactivas con plotly\n",
    "\n",
    "## Datos\n",
    "Trabajaremos con datos de ventas de una empresa ficticia que incluye información sobre productos, vendedores, regiones y fechas de venta.\n",
    "\n",
    "---\n",
    "\n",
    "## Instrucciones\n",
    "1. Lee cuidadosamente cada punto del ejercicio\n",
    "2. Completa el código en las celdas marcadas con `# TODO`\n",
    "3. Ejecuta cada celda para verificar que funciona correctamente\n",
    "4. Genera las 5 visualizaciones solicitadas usando plotly\n"
   ]
  },
  {
   "cell_type": "code",
   "execution_count": 16,
   "metadata": {},
   "outputs": [],
   "source": [
    "# Importar las librerías necesarias\n",
    "import pandas as pd\n",
    "import plotly.express as px\n",
    "import plotly.graph_objects as go\n",
    "from plotly.subplots import make_subplots\n",
    "import numpy as np\n",
    "from datetime import datetime, timedelta\n",
    "\n",
    "# Configurar pandas para mostrar más columnas\n",
    "pd.set_option('display.max_columns', None)\n",
    "pd.set_option('display.width', None)\n",
    "\n",
    "import plotly.io as pio\n",
    "pio.renderers.default = \"notebook\""
   ]
  },
  {
   "cell_type": "markdown",
   "metadata": {},
   "source": [
    "## Punto 1: Cargar los datos\n",
    "\n",
    "Carga el archivo CSV `ventas_empresa.csv` en un DataFrame de pandas y muestra las primeras 5 filas.\n"
   ]
  },
  {
   "cell_type": "code",
   "execution_count": null,
   "metadata": {},
   "outputs": [],
   "source": []
  },
  {
   "cell_type": "markdown",
   "metadata": {},
   "source": [
    "## Punto 2: Limpiar y preparar los datos\n",
    "\n",
    "Realiza las siguientes tareas de limpieza:\n",
    "1. Convierte la columna 'fecha' a tipo datetime\n",
    "2. Verifica si hay valores nulos en el DataFrame\n",
    "3. Crea una nueva columna 'total_venta' que sea precio * cantidad\n",
    "4. Agrega una columna 'mes' extraída de la fecha\n"
   ]
  },
  {
   "cell_type": "code",
   "execution_count": null,
   "metadata": {},
   "outputs": [],
   "source": []
  },
  {
   "cell_type": "markdown",
   "metadata": {},
   "source": [
    "## Punto 3: Análisis exploratorio básico\n",
    "\n",
    "Realiza un análisis exploratorio de los datos:\n",
    "1. Muestra estadísticas descriptivas del DataFrame\n",
    "2. Encuentra el producto más vendido por cantidad\n",
    "3. Encuentra el vendedor con mayor total de ventas\n",
    "4. Calcula las ventas totales por región\n"
   ]
  },
  {
   "cell_type": "code",
   "execution_count": null,
   "metadata": {},
   "outputs": [],
   "source": []
  },
  {
   "cell_type": "markdown",
   "metadata": {},
   "source": [
    "## Punto 4: Visualizaciones con Plotly\n",
    "\n",
    "Ahora crea 5 visualizaciones diferentes usando plotly. Cada una debe mostrar un aspecto diferente de los datos:\n",
    "\n",
    "### Gráfica 1: Evolución temporal de ventas\n",
    "Crea un gráfico de línea que muestre la evolución de las ventas totales por mes. utiliza px.line\n"
   ]
  },
  {
   "cell_type": "code",
   "execution_count": null,
   "metadata": {},
   "outputs": [],
   "source": []
  },
  {
   "cell_type": "markdown",
   "metadata": {},
   "source": [
    "### Gráfica 2: Distribución de ventas por categoría\n",
    "Crea un gráfico de barras que muestre las ventas totales por categoría de producto. utiliza px.bar\n"
   ]
  },
  {
   "cell_type": "code",
   "execution_count": null,
   "metadata": {},
   "outputs": [],
   "source": []
  },
  {
   "cell_type": "markdown",
   "metadata": {},
   "source": [
    "### Gráfica 3: Rendimiento de vendedores\n",
    "Crea un gráfico de dispersión que compare la cantidad de productos vendidos vs el total de ventas por vendedor.\n",
    "utiliza px.scatter"
   ]
  },
  {
   "cell_type": "code",
   "execution_count": null,
   "metadata": {},
   "outputs": [],
   "source": []
  },
  {
   "cell_type": "markdown",
   "metadata": {},
   "source": [
    "### Gráfica 4: Distribución geográfica de ventas\n",
    "Crea un gráfico de pastel que muestre la distribución de ventas por región.\n"
   ]
  },
  {
   "cell_type": "code",
   "execution_count": null,
   "metadata": {},
   "outputs": [],
   "source": []
  },
  {
   "cell_type": "markdown",
   "metadata": {},
   "source": [
    "### Gráfica 5: Análisis de clientes por tipo\n",
    "Crea un gráfico de barras apiladas que muestre las ventas por tipo de cliente y categoría de producto.\n"
   ]
  },
  {
   "cell_type": "code",
   "execution_count": null,
   "metadata": {},
   "outputs": [],
   "source": []
  },
  {
   "cell_type": "markdown",
   "metadata": {},
   "source": [
    "## Punto 5: Análisis adicional (Opcional)\n",
    "\n",
    "Realiza un análisis adicional de tu elección. Puedes:\n",
    "- Crear un gráfico de calor (heatmap) mostrando ventas por mes y región\n",
    "- Analizar la correlación entre precio y cantidad vendida\n",
    "- Crear un gráfico de caja (boxplot) para analizar la distribución de precios por categoría\n",
    "- Cualquier otro análisis que consideres interesante\n",
    "\n"
   ]
  },
  {
   "cell_type": "code",
   "execution_count": null,
   "metadata": {},
   "outputs": [],
   "source": []
  }
 ],
 "metadata": {
  "kernelspec": {
   "display_name": "Python 3 (ipykernel)",
   "language": "python",
   "name": "python3"
  },
  "language_info": {
   "codemirror_mode": {
    "name": "ipython",
    "version": 3
   },
   "file_extension": ".py",
   "mimetype": "text/x-python",
   "name": "python",
   "nbconvert_exporter": "python",
   "pygments_lexer": "ipython3",
   "version": "3.9.6"
  }
 },
 "nbformat": 4,
 "nbformat_minor": 4
}
