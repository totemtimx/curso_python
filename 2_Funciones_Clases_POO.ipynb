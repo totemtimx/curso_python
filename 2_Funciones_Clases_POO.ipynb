{
 "cells": [
  {
   "cell_type": "markdown",
   "id": "9b6f4798-bc9d-499a-a994-027d0fa1cf0e",
   "metadata": {},
   "source": [
    "# Funciones\n",
    "\n",
    "Una función es un bloque de código reutilizable que realiza una tarea específica.\n",
    "Sirven para organizar, reutilizar y hacer más legible el código.\n",
    "\n",
    "* Se define con la palabra clave def y se ejecuta al llamarla:\n",
    "\n",
    "```\n",
    "def saludo():\n",
    "    print(\"Hola\")\n",
    "\n",
    "saludo()\n",
    "```"
   ]
  },
  {
   "cell_type": "code",
   "execution_count": null,
   "id": "f7742b2f-a6bc-4ba9-a5c0-f4964aadbcd8",
   "metadata": {},
   "outputs": [],
   "source": []
  },
  {
   "cell_type": "markdown",
   "id": "8d868132-0b67-4bc0-aed5-435d634f7c71",
   "metadata": {},
   "source": [
    "# Funciones con parámetros\n",
    "\n",
    "```\n",
    "def saluda(nombre):\n",
    "    print(f\"hola {nombre}\")\n",
    "```"
   ]
  },
  {
   "cell_type": "code",
   "execution_count": null,
   "id": "190f43d3-2771-4411-9742-44604ec050fd",
   "metadata": {},
   "outputs": [],
   "source": []
  },
  {
   "cell_type": "markdown",
   "id": "5916665f-454e-4742-9331-3180e58c6329",
   "metadata": {},
   "source": [
    "# Funciones con retorno\n",
    "\n",
    "```\n",
    "def suma(a, b):\n",
    "    return (a+b)\n",
    "```"
   ]
  },
  {
   "cell_type": "code",
   "execution_count": null,
   "id": "f2b36d50-0680-4c9a-b3e4-5e99f61fb1f4",
   "metadata": {},
   "outputs": [],
   "source": []
  },
  {
   "cell_type": "markdown",
   "id": "c13b6372-5426-4d39-b843-2115cec39ff0",
   "metadata": {},
   "source": [
    "# Parámetros con valores por defecto\n",
    "\n",
    "```\n",
    "def saludar(nombre=\"invitado\"):\n",
    "    print(f\"Hola, {nombre}!\")\n",
    "```"
   ]
  },
  {
   "cell_type": "code",
   "execution_count": null,
   "id": "ccc84252-5c5f-4db1-b992-e1b398ca35f1",
   "metadata": {},
   "outputs": [],
   "source": []
  },
  {
   "cell_type": "markdown",
   "id": "3f7036ca-fa3d-45b6-ad7c-0c306aa376be",
   "metadata": {},
   "source": [
    "# Funciones con varios retornos\n",
    "\n",
    "```\n",
    "def operaciones(a, b):\n",
    "    return a+b, a-b, a*b\n",
    "\n",
    "suma, resta, multi = operaciones(10, 5)\n",
    "```"
   ]
  },
  {
   "cell_type": "code",
   "execution_count": null,
   "id": "c8e4ed48-92c1-4814-b0e8-459d1622c103",
   "metadata": {},
   "outputs": [],
   "source": []
  },
  {
   "cell_type": "markdown",
   "id": "c44e65eb-2408-4f3e-a84f-107b0bf11a40",
   "metadata": {},
   "source": [
    "# Clases\n",
    "\n",
    "Una clase es una estructura que permite definir un prototipo de in objeto, y permite organizar y estructurar el código de manera más modular y reutilizable\n",
    "\n",
    "Una clase se defina usando la palabra class\n",
    "\n",
    "```\n",
    "class Persona:\n",
    "\n",
    "    def saluda(self):\n",
    "        print(\"hola\")\n",
    "\n",
    "mau = Persona()\n",
    "mau.saluda()\n",
    "\n",
    "```\n",
    "\n",
    "Las funciones dentro de la clase se llaman métodos y siempre deben de tener el primer argumento self, que es una referencia al objeto actual"
   ]
  },
  {
   "cell_type": "code",
   "execution_count": null,
   "id": "f3a8d3b8-ce19-462c-9d34-1a73840e348f",
   "metadata": {},
   "outputs": [],
   "source": []
  },
  {
   "cell_type": "markdown",
   "id": "ccc91894-cdf9-49cb-82fe-8f1b080f983c",
   "metadata": {},
   "source": [
    "# Constructor\n",
    "\n",
    "El método especial __init__, se llama automáticamente cuando se crea una nueva instacia del objeto\n",
    "\n",
    "```\n",
    "class Persona:\n",
    "    def __init__(self, nombre, edad):\n",
    "        self.nombre = nombre\n",
    "        self.edad = edad\n",
    "\n",
    "    def info(self):\n",
    "        print(f\"{self.nombre} tiene {self.edad} años\")\n",
    "\n",
    "juan = Persona(\"Juan\", \"20\")\n",
    "juan.info()\n",
    "\n",
    "```"
   ]
  },
  {
   "cell_type": "code",
   "execution_count": null,
   "id": "98c8d320-34c6-40c4-af80-45dce0b66d1b",
   "metadata": {},
   "outputs": [],
   "source": []
  },
  {
   "cell_type": "markdown",
   "id": "ee23b02d-65de-43b5-87c1-4ecbe87cb022",
   "metadata": {},
   "source": [
    "# Atributos\n",
    "\n",
    "Los atributos son las propiedades que tiene un bjeto. Estos pueden ser definidos en el método __init__\n",
    "\n",
    "Tambien se pueden especificar afuera como atributos compartidos\n",
    "\n",
    "```\n",
    "class Persona:\n",
    "\n",
    "    lugar = \"Monterrey\"\n",
    "\n",
    "    def __init__(self, nombre, edad):\n",
    "        self.nombre = nombre\n",
    "        self.edad = edad\n",
    "\n",
    "    def info(self):\n",
    "        print(f\"{self.nombre} tiene {self.edad} años, y esta en {self.lugar}\")\n",
    "\n",
    "maria = Persona(\"Maria\", 12)\n",
    "juan = Persona(\"Juan\", 12)\n",
    "\n",
    "maria.info()\n",
    "\n",
    "juan.info()\n",
    "```"
   ]
  },
  {
   "cell_type": "code",
   "execution_count": null,
   "id": "460e4a67-c9f0-4a76-b788-9bb41fbef4f0",
   "metadata": {},
   "outputs": [],
   "source": []
  },
  {
   "cell_type": "markdown",
   "id": "ec710345-c70f-4ddc-977b-ce8774adecd0",
   "metadata": {},
   "source": [
    "# Herencia\n",
    "\n",
    "Permite crear una nueva clase a partir de una clase existente, hereda los atributos y métodos de la superclase y permita añadir nuevos\n",
    "\n",
    "```\n",
    "class Persona:\n",
    "\n",
    "    def __init__(self, nombre, edad):\n",
    "        self.nombre = nombre\n",
    "        self.edad = edad\n",
    "\n",
    "    def info(self):\n",
    "        print(f\"{self.nombre} tiene {self.edad} años\")\n",
    "\n",
    "class Empleado(Persona):\n",
    "\n",
    "    def saludar(self):\n",
    "        print(f\"Hola {self.nombre}\")\n",
    "\n",
    "empleado = Empleado(\"Mauricio\", \"30\")\n",
    "empleado.info()\n",
    "empleado.saludar()\n",
    "```"
   ]
  },
  {
   "cell_type": "code",
   "execution_count": null,
   "id": "879d3d56-4354-473f-8186-62b0f093067a",
   "metadata": {},
   "outputs": [],
   "source": []
  },
  {
   "cell_type": "markdown",
   "id": "e3ab2972-7ee4-4ad0-bc48-79d94f93fdd1",
   "metadata": {},
   "source": [
    "# Métodos estaticos\n",
    "\n",
    "Este tipo de métodos no recibe el parámetro self y se utilizan cuando no es necesario acceder a los atributos o métodos de la clase\n",
    "\n",
    "Se utiliza el decorador @staticmethod\n",
    "\n",
    "```\n",
    "class Utilidades:\n",
    "    @staticmethod\n",
    "    def suma(a, b):\n",
    "        return a + b\n",
    "```"
   ]
  },
  {
   "cell_type": "code",
   "execution_count": null,
   "id": "711ea5ef-cea1-4e01-af80-588a358d2e2a",
   "metadata": {},
   "outputs": [],
   "source": []
  },
  {
   "cell_type": "markdown",
   "id": "3f383854-85e1-4a3e-b405-2747d9d75246",
   "metadata": {},
   "source": [
    "# Encapsulamiento\n",
    "\n",
    "Se refiere a ocultar los detalles internos de la implementación de la clase y exponer solo lo necesario\n",
    "\n",
    "* Atributos privados: se indican usando __ al inicio\n",
    "* Propiedades: se usan para controlar el acceso a los atributos privados\n",
    "\n",
    "```\n",
    "class CuentaBancaria:\n",
    "    def __init__(self, saldo):\n",
    "        self.__saldo = saldo\n",
    "\n",
    "    def obtener_saldo(self):\n",
    "        return self.__saldo\n",
    "\n",
    "    def depositar(self, cantidad):\n",
    "        if cantidad > 0:\n",
    "            self.__saldo += cantidad\n",
    "        else:\n",
    "            print(\"La dantidad debe ser mayor a 0\")\n",
    "```"
   ]
  },
  {
   "cell_type": "code",
   "execution_count": null,
   "id": "62ebd36f-eec7-48bd-ae76-a9d805f96853",
   "metadata": {},
   "outputs": [],
   "source": []
  }
 ],
 "metadata": {
  "kernelspec": {
   "display_name": "Python 3 (ipykernel)",
   "language": "python",
   "name": "python3"
  },
  "language_info": {
   "codemirror_mode": {
    "name": "ipython",
    "version": 3
   },
   "file_extension": ".py",
   "mimetype": "text/x-python",
   "name": "python",
   "nbconvert_exporter": "python",
   "pygments_lexer": "ipython3",
   "version": "3.9.6"
  }
 },
 "nbformat": 4,
 "nbformat_minor": 5
}
