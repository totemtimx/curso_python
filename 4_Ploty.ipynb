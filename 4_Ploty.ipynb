{
 "cells": [
  {
   "cell_type": "markdown",
   "id": "1005ca66-d223-46e3-9ddb-f64192223968",
   "metadata": {},
   "source": [
    "# Plotly\n",
    "\n",
    "Plotly es una librería de Python para crear gráficos interactivos de alta calidad. A diferencia de Matplotlib, que generan visualizaciones estáticas, Plotly permite que los gráficos sean dinámicos, con zoom, tooltips, filtros y la posibilidad de integrarlos en aplicaciones web como Dash.\n",
    "\n",
    "### Ventajas:\n",
    "\n",
    "* Gráficos interactivos por defecto.\n",
    "\n",
    "* Integración con Jupyter Notebook, Dash, y frameworks web.\n",
    "\n",
    "* Soporta múltiples tipos de gráficos (barras, líneas, dispersión, mapas, 3D).\n",
    "\n",
    "* Exportación a HTML y PNG."
   ]
  },
  {
   "cell_type": "markdown",
   "id": "4905c309-c81a-47bb-86b6-d8696f5f4823",
   "metadata": {},
   "source": [
    "# Instalación\n",
    "\n",
    "pip install plotly\n"
   ]
  },
  {
   "cell_type": "code",
   "execution_count": null,
   "id": "8403ccca-a0aa-4737-aeb0-cf0697cb858e",
   "metadata": {},
   "outputs": [],
   "source": [
    "!pip install numpy plotly pandas matplotlib"
   ]
  },
  {
   "cell_type": "markdown",
   "id": "2b7c8deb-bd5b-44a3-b9b9-e55e3032e9b9",
   "metadata": {},
   "source": [
    "# Ejecucion con datos de ejemplo"
   ]
  },
  {
   "cell_type": "code",
   "execution_count": null,
   "id": "a720b71a-b53a-4531-ad57-8e73a1ec49a8",
   "metadata": {},
   "outputs": [],
   "source": [
    "import plotly.io as pio\n",
    "pio.renderers.default = \"notebook\" \n",
    "\n",
    "import plotly.express as px\n",
    "\n",
    "df = px.data.iris()  # Dataset de ejemplo\n",
    "fig = px.scatter(df, x=\"sepal_width\", y=\"sepal_length\",\n",
    "                 color=\"species\", size=\"petal_length\",\n",
    "                 title=\"Gráfico de dispersión - Iris\")\n",
    "fig.show()"
   ]
  },
  {
   "cell_type": "markdown",
   "id": "dea82962-65d6-4cd4-a9a2-6a8aceaa59d3",
   "metadata": {},
   "source": [
    "# Gráfico de barras"
   ]
  },
  {
   "cell_type": "code",
   "execution_count": null,
   "id": "b3acd531-6804-4ffa-b46f-effbf1f43d6e",
   "metadata": {},
   "outputs": [],
   "source": [
    "df = px.data.tips()\n",
    "fig = px.bar(df, x=\"day\", y=\"total_bill\", color=\"sex\", barmode=\"group\")\n",
    "fig.show()"
   ]
  },
  {
   "cell_type": "markdown",
   "id": "8eed05c2-2e0e-4001-9d7d-2fe2031cde7b",
   "metadata": {},
   "source": [
    "# Histograma"
   ]
  },
  {
   "cell_type": "code",
   "execution_count": null,
   "id": "e543542a-be8f-4e26-9dd9-d6d9e8ffc4f6",
   "metadata": {},
   "outputs": [],
   "source": [
    "fig = px.histogram(df, x=\"total_bill\", nbins=30, color=\"sex\")\n",
    "fig.show()"
   ]
  },
  {
   "cell_type": "markdown",
   "id": "fd25047a-f796-492b-bd2a-5a548a07f28c",
   "metadata": {},
   "source": [
    "# Gráficos 3D"
   ]
  },
  {
   "cell_type": "code",
   "execution_count": null,
   "id": "d0615163-c2e7-4362-81d2-aa388c84c8d3",
   "metadata": {},
   "outputs": [],
   "source": [
    "df = px.data.gapminder().query(\"year == 2007\")\n",
    "fig = px.scatter_3d(df, x=\"gdpPercap\", y=\"lifeExp\", z=\"pop\",\n",
    "                    color=\"continent\", size=\"pop\")\n",
    "fig.show()"
   ]
  },
  {
   "cell_type": "markdown",
   "id": "9e98a222-2e85-4824-b48f-df693d351ca5",
   "metadata": {},
   "source": [
    "# Documentacion oficial:\n",
    "\n",
    "https://plotly.com/python/"
   ]
  }
 ],
 "metadata": {
  "kernelspec": {
   "display_name": "Python 3 (ipykernel)",
   "language": "python",
   "name": "python3"
  },
  "language_info": {
   "codemirror_mode": {
    "name": "ipython",
    "version": 3
   },
   "file_extension": ".py",
   "mimetype": "text/x-python",
   "name": "python",
   "nbconvert_exporter": "python",
   "pygments_lexer": "ipython3",
   "version": "3.9.6"
  }
 },
 "nbformat": 4,
 "nbformat_minor": 5
}
