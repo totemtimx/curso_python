{
 "cells": [
  {
   "cell_type": "markdown",
   "id": "1005ca66-d223-46e3-9ddb-f64192223968",
   "metadata": {},
   "source": [
    "# Plotly\n",
    "\n",
    "Plotly es una librería de Python para crear gráficos interactivos de alta calidad. A diferencia de Matplotlib, que generan visualizaciones estáticas, Plotly permite que los gráficos sean dinámicos, con zoom, tooltips, filtros y la posibilidad de integrarlos en aplicaciones web como Dash.\n",
    "\n",
    "### Ventajas:\n",
    "\n",
    "* Gráficos interactivos por defecto.\n",
    "\n",
    "* Integración con Jupyter Notebook, Dash, y frameworks web.\n",
    "\n",
    "* Soporta múltiples tipos de gráficos (barras, líneas, dispersión, mapas, 3D).\n",
    "\n",
    "* Exportación a HTML y PNG."
   ]
  },
  {
   "cell_type": "markdown",
   "id": "4905c309-c81a-47bb-86b6-d8696f5f4823",
   "metadata": {},
   "source": [
    "# Instalación\n"
   ]
  },
  {
   "cell_type": "code",
   "execution_count": null,
   "id": "8403ccca-a0aa-4737-aeb0-cf0697cb858e",
   "metadata": {},
   "outputs": [],
   "source": [
    "!pip install numpy plotly pandas matplotlib"
   ]
  },
  {
   "cell_type": "markdown",
   "id": "9e98a222-2e85-4824-b48f-df693d351ca5",
   "metadata": {},
   "source": [
    "# Documentacion oficial:\n",
    "\n",
    "https://plotly.com/python/\n",
    "\n",
    "### Para generar graficos de una forma facil se utiliza plotly.express\n",
    "\n",
    "plotly.express es un módulo de alto nivel de la librería Plotly en Python, diseñado para crear gráficos de forma rápida y sencilla con muy pocas líneas de código.\n",
    "\n",
    "Tipos de graficos y funcion a utilizar\n",
    "\n",
    "| **Categoría**             | **Función**               | **Descripción**                                               |\n",
    "| ------------------------- | ------------------------- | ------------------------------------------------------------- |\n",
    "| **Básicos**               | `px.scatter`              | Dispersión (x vs y, con color, tamaño, animación).            |\n",
    "|                           | `px.line`                 | Línea (series temporales o tendencias).                       |\n",
    "|                           | `px.area`                 | Gráfico de área (puede ser apilada).                          |\n",
    "|                           | `px.bar`                  | Barras verticales u horizontales.                             |\n",
    "|                           | `px.histogram`            | Histograma (distribución de frecuencias).                     |\n",
    "|                           | `px.box`                  | Diagrama de caja (outliers, cuartiles).                       |\n",
    "|                           | `px.violin`               | Violin plot (distribución + densidad).                        |\n",
    "|                           | `px.strip`                | Strip plot (dispersión unidimensional).                       |\n",
    "|                           | `px.ecdf`                 | Función de distribución acumulada.                            |\n",
    "| **Multivariados**         | `px.scatter_matrix`       | Matriz de dispersión entre múltiples variables.               |\n",
    "|                           | `px.parallel_coordinates` | Coordenadas paralelas (comparar varias variables numéricas).  |\n",
    "|                           | `px.parallel_categories`  | Categorías paralelas (comparar varias variables categóricas). |\n",
    "|                           | `px.density_contour`      | Contornos de densidad en 2D.                                  |\n",
    "|                           | `px.density_heatmap`      | Mapa de calor de densidad.                                    |\n",
    "| **Jerárquicos**           | `px.treemap`              | Árbol jerárquico proporcional al valor.                       |\n",
    "|                           | `px.sunburst`             | Gráfico de rayos de sol (jerarquía circular).                 |\n",
    "|                           | `px.icicle`               | Jerarquía en forma de cascada vertical.                       |\n",
    "| **Mapas / Geoespaciales** | `px.scatter_geo`          | Puntos en mapas (lat/lon o nombres de países).                |\n",
    "|                           | `px.choropleth`           | Mapa coroplético por regiones/países.                         |\n",
    "|                           | `px.choropleth_mapbox`    | Mapa coroplético usando Mapbox.                               |\n",
    "|                           | `px.scatter_mapbox`       | Puntos en mapas con Mapbox.                                   |\n",
    "|                           | `px.density_mapbox`       | Mapa de densidad con Mapbox.                                  |\n",
    "|                           | `px.line_geo`             | Líneas geográficas (sobre proyecciones).                      |\n",
    "|                           | `px.line_mapbox`          | Líneas en mapas con Mapbox.                                   |\n",
    "| **Otros**                 | `px.imshow`               | Visualización de imágenes o matrices (mapa de calor rápido).  |\n",
    "|                           | `px.timeline`             | Línea de tiempo estilo Gantt.                                 |\n",
    "|                           | `px.funnel`               | Gráfico de embudo (procesos secuenciales).                    |\n",
    "|                           | `px.funnel_area`          | Embudo radial (área circular).                                |\n",
    "|                           | `px.pie`                  | Gráfico de pastel.                                            |\n"
   ]
  },
  {
   "cell_type": "markdown",
   "id": "c8bb95c3-8e33-4de5-88e1-edcf419a7964",
   "metadata": {},
   "source": [
    "### Nota: Seleccion de render\n",
    "\n",
    "Para su visualización con jupyer o vscode es necesario definir el tipo de render\n",
    "\n",
    "opciones: notebook , browser"
   ]
  },
  {
   "cell_type": "code",
   "execution_count": 58,
   "id": "cf8d535a-4c78-452e-acb8-9372c61f1691",
   "metadata": {},
   "outputs": [],
   "source": [
    "import plotly.io as pio\n",
    "pio.renderers.default = \"notebook\" "
   ]
  },
  {
   "cell_type": "markdown",
   "id": "2b7c8deb-bd5b-44a3-b9b9-e55e3032e9b9",
   "metadata": {},
   "source": [
    "# Ejecución con datos de ejemplo"
   ]
  },
  {
   "cell_type": "code",
   "execution_count": null,
   "id": "a720b71a-b53a-4531-ad57-8e73a1ec49a8",
   "metadata": {},
   "outputs": [],
   "source": [
    "import plotly.express as px\n",
    "\n",
    "df = px.data.iris()  # Dataset de ejemplo\n",
    "fig = px.scatter(df, x=\"sepal_width\", y=\"sepal_length\",\n",
    "                 color=\"species\", size=\"petal_length\",\n",
    "                 title=\"Gráfico de dispersión - Iris\")\n",
    "fig.show()"
   ]
  },
  {
   "cell_type": "markdown",
   "id": "dea82962-65d6-4cd4-a9a2-6a8aceaa59d3",
   "metadata": {},
   "source": [
    "# Gráfico de barras"
   ]
  },
  {
   "cell_type": "code",
   "execution_count": null,
   "id": "b3acd531-6804-4ffa-b46f-effbf1f43d6e",
   "metadata": {},
   "outputs": [],
   "source": [
    "df = px.data.tips()\n",
    "fig = px.bar(df, x=\"day\", y=\"total_bill\", color=\"sex\", barmode=\"group\")\n",
    "fig.show()"
   ]
  },
  {
   "cell_type": "markdown",
   "id": "8eed05c2-2e0e-4001-9d7d-2fe2031cde7b",
   "metadata": {},
   "source": [
    "# Histograma"
   ]
  },
  {
   "cell_type": "code",
   "execution_count": null,
   "id": "e543542a-be8f-4e26-9dd9-d6d9e8ffc4f6",
   "metadata": {},
   "outputs": [],
   "source": [
    "fig = px.histogram(df, x=\"total_bill\", nbins=30, color=\"sex\")\n",
    "fig.show()"
   ]
  },
  {
   "cell_type": "markdown",
   "id": "fd25047a-f796-492b-bd2a-5a548a07f28c",
   "metadata": {},
   "source": [
    "# Gráficos 3D"
   ]
  },
  {
   "cell_type": "code",
   "execution_count": null,
   "id": "d0615163-c2e7-4362-81d2-aa388c84c8d3",
   "metadata": {},
   "outputs": [],
   "source": [
    "df = px.data.gapminder().query(\"year == 2007\")\n",
    "fig = px.scatter_3d(df, x=\"gdpPercap\", y=\"lifeExp\", z=\"pop\",\n",
    "                    color=\"continent\", size=\"pop\")\n",
    "fig.show()"
   ]
  },
  {
   "cell_type": "markdown",
   "id": "273d0f1e-2b27-49e1-905c-338cda6a3334",
   "metadata": {},
   "source": [
    "# Mapas"
   ]
  },
  {
   "cell_type": "code",
   "execution_count": null,
   "id": "06cbd3ef-6ab7-4196-8589-6f80a37ff192",
   "metadata": {},
   "outputs": [],
   "source": [
    "df = px.data.gapminder().query(\"year == 2007\")\n",
    "fig = px.choropleth(df, locations=\"iso_alpha\", color=\"gdpPercap\",\n",
    "                    hover_name=\"country\", projection=\"natural earth\",\n",
    "                    title=\"PIB per cápita en 2007\")\n",
    "fig.show()"
   ]
  },
  {
   "cell_type": "markdown",
   "id": "84303233-cc35-47bb-92c7-4a662ed3e2b8",
   "metadata": {},
   "source": [
    "# Crear un archivo HTML Interactivo\n",
    "\n",
    "utilizando el metodo write_html:\n",
    "\n",
    "fig.write_html(\"grafico.html\")"
   ]
  },
  {
   "cell_type": "code",
   "execution_count": null,
   "id": "be5eef0c-6481-43cb-bb42-dbba02bf77e2",
   "metadata": {},
   "outputs": [],
   "source": [
    "df = px.data.gapminder().query(\"year == 2007\")\n",
    "fig = px.choropleth(df, locations=\"iso_alpha\", color=\"gdpPercap\",\n",
    "                    hover_name=\"country\", projection=\"natural earth\",\n",
    "                    title=\"PIB per cápita en 2007\")\n",
    "fig.write_html(\"grafico.html\")"
   ]
  },
  {
   "cell_type": "markdown",
   "id": "4737d78f-cad8-4a8c-b307-1f4fc0ca4488",
   "metadata": {},
   "source": [
    "# Ejercicio completo"
   ]
  },
  {
   "cell_type": "markdown",
   "id": "1d2a99cd-02c4-484a-97fd-2114511de489",
   "metadata": {},
   "source": [
    "### 1. Carga y exploración de datos"
   ]
  },
  {
   "cell_type": "code",
   "execution_count": null,
   "id": "cd706af5-c63a-49c1-847a-2fd1ad48c352",
   "metadata": {},
   "outputs": [],
   "source": [
    "import pandas as pd\n",
    "\n",
    "# Cargar CSV\n",
    "df = pd.read_csv(\"datasets/dataset_ventas_diarias.csv\")\n",
    "\n",
    "# Vista inicial\n",
    "print(df.head())\n",
    "print(df.info())"
   ]
  },
  {
   "cell_type": "code",
   "execution_count": null,
   "id": "a7080796-66c6-4fd2-9865-3bfc7d177da6",
   "metadata": {},
   "outputs": [],
   "source": [
    "# Transformamos la columna de fecha \n",
    "\n",
    "df[\"fecha\"] = pd.to_datetime(df[\"fecha\"], errors=\"coerce\")\n",
    "\n",
    "# creamos campos derivados:\n",
    "     \n",
    "df[\"anio\"] = df[\"fecha\"].dt.year\n",
    "df[\"mes\"] = df[\"fecha\"].dt.month\n",
    "df[\"dia_semana\"] = df[\"fecha\"].dt.day_name()\n",
    "\n",
    "# Traducción de días\n",
    "dias_map = {\n",
    "    'Monday': 'Lunes', 'Tuesday': 'Martes', 'Wednesday': 'Miércoles',\n",
    "    'Thursday': 'Jueves', 'Friday': 'Viernes', 'Saturday': 'Sábado',\n",
    "    'Sunday': 'Domingo'\n",
    "}\n",
    "df[\"dia_semana\"] = df[\"dia_semana\"].map(dias_map)\n",
    "\n",
    "print(df.head())\n",
    "print(df.info())"
   ]
  },
  {
   "cell_type": "markdown",
   "id": "0ff0b5e8-3f3b-4bc1-94b0-792bd42f9cd2",
   "metadata": {},
   "source": [
    "### 2. Gráficos de interés con Plotly"
   ]
  },
  {
   "cell_type": "code",
   "execution_count": null,
   "id": "8c515890-b9c9-4e16-8dbd-8ca2d1363ec3",
   "metadata": {},
   "outputs": [],
   "source": [
    "# Ventas diarias (serie temporal)\n",
    "\n",
    "import plotly.express as px\n",
    "\n",
    "ventas_dia = df.groupby(\"fecha\")[\"ventas\"].sum().reset_index()\n",
    "fig = px.line(ventas_dia, x=\"fecha\", y=\"ventas\",\n",
    "              title=\"Ventas totales por día\")\n",
    "fig.show()"
   ]
  },
  {
   "cell_type": "code",
   "execution_count": null,
   "id": "463f508b-ced6-4876-bedc-18ae6dcf2d0e",
   "metadata": {},
   "outputs": [],
   "source": [
    "# top 10 productos más vendidos\n",
    "top_prod = df.groupby(\"categoria\")[\"ventas\"].sum().reset_index()\n",
    "\n",
    "fig = px.bar(top_prod, x=\"categoria\", y=\"ventas\",\n",
    "             title=\"Top 10 categoria por ventas\",\n",
    "             text=\"ventas\")\n",
    "fig.update_traces(texttemplate='%{text:.2s}', textposition='outside')\n",
    "fig.show()"
   ]
  },
  {
   "cell_type": "code",
   "execution_count": null,
   "id": "bfa813e2-c2e8-4d1f-97f8-c6442cb1a8b8",
   "metadata": {},
   "outputs": [],
   "source": [
    "### Ventas por dia de la semana\n",
    "orden_dias = [\"Lunes\",\"Martes\",\"Miércoles\",\"Jueves\",\"Viernes\",\"Sábado\",\"Domingo\"]\n",
    "ventas_sem = (df.groupby(\"dia_semana\", as_index=False)[\"ventas\"].sum()\n",
    "                .set_index(\"dia_semana\").reindex(orden_dias).reset_index())\n",
    "fig = px.bar(ventas_sem, x=\"dia_semana\", y=\"ventas\",\n",
    "             title=\"Ventas por día de la semana\")\n",
    "fig.show()"
   ]
  },
  {
   "cell_type": "code",
   "execution_count": null,
   "id": "b0fc102d-f453-407e-a449-14cb0312be1e",
   "metadata": {},
   "outputs": [],
   "source": [
    "# ventas por region\n",
    "import numpy as np\n",
    "import plotly.express as px\n",
    "\n",
    "# Agregación y orden\n",
    "ventas_reg = (df.groupby(\"region\", as_index=False)[\"ventas\"].sum()\n",
    "                .sort_values(\"ventas\", ascending=True))\n",
    "ventas_reg[\"participacion\"] = ventas_reg[\"ventas\"] / ventas_reg[\"ventas\"].sum()\n",
    "\n",
    "# Gráfico\n",
    "fig = px.bar(\n",
    "    ventas_reg,\n",
    "    y=\"region\", x=\"ventas\",\n",
    "    orientation=\"h\",\n",
    "    title=\"Ventas por región\",\n",
    "    text=ventas_reg[\"ventas\"].map(lambda v: f\"${v:,.0f}\")  # etiqueta legible\n",
    ")\n",
    "\n",
    "# Estilo de trazos y hover\n",
    "fig.update_traces(\n",
    "    textposition=\"outside\",\n",
    "    marker_line_width=1,\n",
    "    marker_line_color=\"rgba(0,0,0,0.25)\",\n",
    "    hovertemplate=(\n",
    "        \"Región: %{y}<br>\"\n",
    "        \"Ventas: %{x:,.0f}<br>\"\n",
    "        \"Participación: %{customdata:.1%}\"\n",
    "        \"<extra></extra>\"\n",
    "    ),\n",
    "    customdata=ventas_reg[\"participacion\"].values\n",
    ")\n",
    "\n",
    "# Layout limpio y orden por total\n",
    "fig.update_layout(\n",
    "    template=\"plotly_white\",\n",
    "    xaxis_title=\"Ventas\",\n",
    "    yaxis_title=\"Región\",\n",
    "    xaxis_tickformat=\",\",  # separador de miles\n",
    "    uniformtext_minsize=10,\n",
    "    uniformtext_mode=\"hide\",\n",
    "    margin=dict(l=110, r=40, t=60, b=40)\n",
    ")\n",
    "fig.update_yaxes(categoryorder=\"total ascending\")\n",
    "\n",
    "fig.show()"
   ]
  },
  {
   "cell_type": "code",
   "execution_count": null,
   "id": "43bf3b70-1746-4ca1-ae70-e54d737cb3f6",
   "metadata": {},
   "outputs": [],
   "source": [
    "### Distribución de ventas (histograma)\n",
    "\n",
    "fig = px.histogram(df, x=\"ventas\", nbins=40,\n",
    "                   title=\"Distribución de montos de venta\")\n",
    "fig.show()"
   ]
  },
  {
   "cell_type": "code",
   "execution_count": null,
   "id": "27164d4d-5ba6-47c8-ba18-f1b8ab977c7d",
   "metadata": {},
   "outputs": [],
   "source": [
    "# Mapa de calor \n",
    "tabla = (df.pivot_table(index=\"categoria\", columns=\"dia_semana\", values=\"ventas\", aggfunc=\"sum\")\n",
    "           .reindex(columns=[\"Lunes\",\"Martes\",\"Miércoles\",\"Jueves\",\"Viernes\",\"Sábado\",\"Domingo\"]))\n",
    "tabla = tabla.fillna(0).reset_index().melt(id_vars=\"categoria\", var_name=\"dia_semana\", value_name=\"ventas\")\n",
    "\n",
    "fig = px.density_heatmap(tabla, x=\"dia_semana\", y=\"categoria\", z=\"ventas\",\n",
    "                         title=\"Heatmap de ventas: Categoría × Día de la semana\", nbinsx=7, nbinsy=len(tabla[\"categoria\"].unique()))\n",
    "fig.show()"
   ]
  },
  {
   "cell_type": "code",
   "execution_count": null,
   "id": "e50dc0a6-52eb-43c9-a7cc-3d281cdec1ea",
   "metadata": {},
   "outputs": [],
   "source": [
    "\n",
    "# --- Paso 1: Agregación por categoría ---\n",
    "ventas_cat = (df.groupby(\"categoria\", as_index=False)[\"ventas\"]\n",
    "                .sum()\n",
    "                .sort_values(\"ventas\", ascending=False))\n",
    "\n",
    "# --- Paso 2: Cálculo de acumulado y % ---\n",
    "ventas_cat[\"acumulado\"] = ventas_cat[\"ventas\"].cumsum() ## cumsum calucla la suma acumulada\n",
    "ventas_cat[\"porc_acumulado\"] = ventas_cat[\"acumulado\"] / ventas_cat[\"ventas\"].sum() * 100\n",
    "\n",
    "# --- Paso 3: Gráfico 1 ---\n",
    "fig = go.Figure()\n",
    "\n",
    "# Barras de ventas\n",
    "fig.add_trace(go.Bar(\n",
    "    x=ventas_cat[\"categoria\"],\n",
    "    y=ventas_cat[\"ventas\"],\n",
    "    name=\"Ventas\",\n",
    "    text=ventas_cat[\"ventas\"].map(lambda v: f\"${v:,.0f}\"),\n",
    "    textposition=\"outside\",\n",
    "    marker=dict(line=dict(width=1, color=\"rgba(0,0,0,0.25)\"))\n",
    "))\n",
    "\n",
    "# --- Paso 3: Gráfico 2 ---\n",
    "# Línea de % acumulado\n",
    "fig.add_trace(go.Scatter(\n",
    "    x=ventas_cat[\"categoria\"],\n",
    "    y=ventas_cat[\"porc_acumulado\"],\n",
    "    name=\"% acumulado\",\n",
    "    mode=\"lines+markers\",\n",
    "    yaxis=\"y2\"\n",
    "))\n",
    "\n",
    "# --- Layout ---\n",
    "fig.update_layout(\n",
    "    title=\"Gráfico de Pareto de Ventas por Categoría\",\n",
    "    xaxis=dict(title=\"Categoría\"),\n",
    "    yaxis=dict(title=\"Ventas\"),\n",
    "    yaxis2=dict(\n",
    "        title=\"% Acumulado\",\n",
    "        overlaying=\"y\",\n",
    "        side=\"right\",\n",
    "        range=[0, 110]\n",
    "    ),\n",
    "    bargap=0.3\n",
    ")\n",
    "\n",
    "fig.show()"
   ]
  }
 ],
 "metadata": {
  "kernelspec": {
   "display_name": "Python 3 (ipykernel)",
   "language": "python",
   "name": "python3"
  },
  "language_info": {
   "codemirror_mode": {
    "name": "ipython",
    "version": 3
   },
   "file_extension": ".py",
   "mimetype": "text/x-python",
   "name": "python",
   "nbconvert_exporter": "python",
   "pygments_lexer": "ipython3",
   "version": "3.9.6"
  }
 },
 "nbformat": 4,
 "nbformat_minor": 5
}
