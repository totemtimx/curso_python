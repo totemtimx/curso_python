{
 "cells": [
  {
   "cell_type": "markdown",
   "id": "91d924f6-f3a0-4cfc-92fb-850dc14a4e48",
   "metadata": {},
   "source": [
    "1) Carga e inspección\n",
    "\n",
    "Carga el CSV (ventas_retail_ejercicio.csv) en un DataFrame df.\n",
    "\n",
    "Muestra shape, dtypes y df.head(3).\n",
    "\n",
    "Asegúrate de parsear fecha como tipo datetime."
   ]
  },
  {
   "cell_type": "code",
   "execution_count": null,
   "id": "519b91ca-561a-43d7-8104-501cd53ae057",
   "metadata": {},
   "outputs": [],
   "source": []
  },
  {
   "cell_type": "markdown",
   "id": "02672ff6-b1e8-4c57-a233-78a97ceb7e7d",
   "metadata": {},
   "source": [
    "2) Tipos y conversión\n",
    "\n",
    "Verifica que precio_unitario, cantidad y descuento_pct sean numéricos.\n",
    "\n",
    "Si descuento_pct llega como objeto, conviértelo a float."
   ]
  },
  {
   "cell_type": "code",
   "execution_count": null,
   "id": "7f138021-76e0-43bd-adc7-8be8bfdc2f16",
   "metadata": {},
   "outputs": [],
   "source": []
  },
  {
   "cell_type": "markdown",
   "id": "a21ead69-ca86-400e-8d25-aeb22731fb5f",
   "metadata": {},
   "source": [
    "3) Valores faltantes\n",
    "\n",
    "Identifica columnas con NaN.\n",
    "\n",
    "Reemplaza los NaN de descuento_pct por 0 "
   ]
  },
  {
   "cell_type": "code",
   "execution_count": null,
   "id": "0b52b838-9d0c-4a54-a272-b9b39e374999",
   "metadata": {},
   "outputs": [],
   "source": []
  },
  {
   "cell_type": "markdown",
   "id": "f7dfa4c5-29d9-4e4a-b3bf-b5fd1e24bfe8",
   "metadata": {},
   "source": [
    "4) Detección de atípicos\n",
    "\n",
    "Encuentra filas con precio_unitario <= 0 o precio_unitario > 100000.\n",
    "\n",
    "Elimínalas o corrígelas "
   ]
  },
  {
   "cell_type": "code",
   "execution_count": null,
   "id": "cdf70d2a-b570-4a22-a205-d553f9a6bf93",
   "metadata": {},
   "outputs": [],
   "source": []
  },
  {
   "cell_type": "markdown",
   "id": "8512c257-e428-4c90-8b4e-9d365b40cb3c",
   "metadata": {},
   "source": [
    "5) Columnas derivadas\n",
    "\n",
    "Si no existen (o quieres recalcular), crea:\n",
    "\n",
    "ingreso_bruto = precio_unitario * cantidad\n",
    "\n",
    "ingreso_neto = ingreso_bruto * (1 - descuento_pct)\n",
    "\n",
    "Verifica que no haya negativos."
   ]
  },
  {
   "cell_type": "code",
   "execution_count": null,
   "id": "273c9c03-6ae7-47d7-bcc1-f821b5e396f4",
   "metadata": {},
   "outputs": [],
   "source": []
  },
  {
   "cell_type": "markdown",
   "id": "88645cc9-6483-4796-815b-198bd91063db",
   "metadata": {},
   "source": [
    "6) Filtros básicos\n",
    "\n",
    "Filtra ventas de Monterrey en la categoría Electrónica con cantidad >= 2.\n",
    "\n",
    "¿Cuántas ventas cumplen?\n",
    "\n",
    "¿Cuál es su ingreso_neto total?"
   ]
  },
  {
   "cell_type": "code",
   "execution_count": null,
   "id": "fd2ec560-b829-41c4-b032-403913b9f19b",
   "metadata": {},
   "outputs": [],
   "source": []
  },
  {
   "cell_type": "markdown",
   "id": "699ed4c9-5dd6-4139-bc37-56af6a9c4d8f",
   "metadata": {},
   "source": [
    "7) Agrupaciones (groupby)\n",
    "\n",
    "Calcula ingreso neto total por ciudad.\n",
    "\n",
    "Calcula ingreso neto promedio por categoria y metodo_pago.\n",
    "\n",
    "Obtén el Top 5 productos por ingreso neto total."
   ]
  },
  {
   "cell_type": "code",
   "execution_count": null,
   "id": "c4b7208c-55a4-4ade-a1ad-ce5a4ecc7c88",
   "metadata": {},
   "outputs": [],
   "source": []
  },
  {
   "cell_type": "markdown",
   "id": "2c0a89f4-c9fd-4acf-9346-aaefd504d1f8",
   "metadata": {},
   "source": [
    "8) Exportaciones\n",
    "\n",
    "Exporta a CSV los siguientes resultados:\n",
    "\n",
    "El Top 5 productos por ingreso.\n",
    "\n",
    "El resumen mensual de ingreso neto.\n",
    "\n",
    "El resumen por ciudad.\n",
    "    "
   ]
  }
 ],
 "metadata": {
  "kernelspec": {
   "display_name": "Python 3 (ipykernel)",
   "language": "python",
   "name": "python3"
  },
  "language_info": {
   "codemirror_mode": {
    "name": "ipython",
    "version": 3
   },
   "file_extension": ".py",
   "mimetype": "text/x-python",
   "name": "python",
   "nbconvert_exporter": "python",
   "pygments_lexer": "ipython3",
   "version": "3.9.6"
  }
 },
 "nbformat": 4,
 "nbformat_minor": 5
}
