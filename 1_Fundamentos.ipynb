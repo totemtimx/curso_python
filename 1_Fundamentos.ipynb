{
 "cells": [
  {
   "cell_type": "markdown",
   "id": "2e9958ae-b5d9-45ae-b5fc-d90b70cbc69a",
   "metadata": {},
   "source": [
    "# print\n",
    "\n",
    "Su objetivo principal es mostrar información en la salida estándar, normalmente la consola.\n"
   ]
  },
  {
   "cell_type": "code",
   "execution_count": 1,
   "id": "4c26d0e7-016a-4e86-b85c-0a44f3392aac",
   "metadata": {},
   "outputs": [
    {
     "name": "stdout",
     "output_type": "stream",
     "text": [
      "Hola mundo\n"
     ]
    }
   ],
   "source": [
    "print(\"Hola mundo\")"
   ]
  },
  {
   "cell_type": "markdown",
   "id": "264ce725-3863-4017-b6de-d4c7fbaa1dd2",
   "metadata": {},
   "source": [
    "# Comentarios\n",
    "\n",
    "Los comentarios en Python son texto que se incluye en el código pero que no se ejecuta. \n",
    "\n",
    "Sirven para explicar qué hace el código, documentar funciones o dejar notas para otros programadores (o para ti mismo en el futuro).\n",
    "\n",
    "## Tipos de comentarios:\n",
    "\n",
    "* Comentarios de una linea, se inicia con #\n",
    "\n",
    "\\# Este es un comentario de una línea\n",
    "\n",
    "edad = 25  # También puedes comentar al final de la línea\n",
    "\n",
    "* Comentarios multilinea, se inician y terminan con \"\"\" o \"\"\"\n",
    "\n",
    "\"\"\"\n",
    "Este es un comentario\n",
    "\n",
    "de múltiples líneas.\n",
    "\n",
    "Útil para explicaciones largas.\n",
    "\"\"\"\n",
    "\n",
    "'''\n",
    "También puedes usar comillas simples\n",
    "\n",
    "para comentarios multilínea.\n",
    "'''\n",
    "\n",
    "\n",
    "  "
   ]
  },
  {
   "cell_type": "code",
   "execution_count": 4,
   "id": "abe48310-0973-47e2-907a-2ffa82ac66d9",
   "metadata": {},
   "outputs": [
    {
     "data": {
      "text/plain": [
       "' con simples '"
      ]
     },
     "execution_count": 4,
     "metadata": {},
     "output_type": "execute_result"
    }
   ],
   "source": [
    "# ejepmlo de comentario\n",
    "# comentario\n",
    "\n",
    "\"\"\"Comentario \n",
    "de \n",
    "varias \n",
    "lineas \"\"\"\n",
    "\n",
    "''' con simples '''\n"
   ]
  },
  {
   "cell_type": "markdown",
   "id": "a4064011-1cde-4dd8-8a69-6065100bd7b0",
   "metadata": {},
   "source": [
    "# Variables\n",
    "\n",
    "Las variables en Python son contenedores que almacenan datos y les asignan un nombre para poder referenciarlos posteriormente. \n",
    "\n",
    "Piénsalas como etiquetas que apuntan a valores en la memoria.\n",
    "\n",
    "* No necesitas declararlas: Simplemente asignas un valor con el operador =\n",
    "* Son dinámicas: Pueden cambiar de tipo durante la ejecución\n",
    "* Sensibles a mayúsculas: nombre y Nombre son variables diferentes\n",
    "  \n",
    "### se recomienda el uso de snake_case (palabras separadas por guiones bajos)"
   ]
  },
  {
   "cell_type": "code",
   "execution_count": 11,
   "id": "d2609f0e-c467-4fa8-8385-0578c477a1dd",
   "metadata": {},
   "outputs": [
    {
     "name": "stdout",
     "output_type": "stream",
     "text": [
      "Solis 30\n"
     ]
    }
   ],
   "source": [
    "# Variables de diferentes tipos\n",
    "edad = 25                    # entero\n",
    "nombre = \"María\"             # cadena de texto\n",
    "precio = 19.99              # decimal\n",
    "es_estudiante = True        # booleano\n",
    "\n",
    "apellido = \"Solis\"\n",
    "edad = \"30\"\n",
    "print(apellido, edad)"
   ]
  },
  {
   "cell_type": "markdown",
   "id": "e23e34df-4141-46f0-b45f-f5b45db75a49",
   "metadata": {},
   "source": [
    "# Constantes\n",
    "\n",
    "Las constantes en Python son variables cuyos valores no deberían cambiar durante la ejecución del programa. Técnicamente, Python no tiene constantes verdaderas como otros lenguajes, pero se usan convenciones para indicar que un valor es constante.\n",
    "\n",
    "## Se escriben en MAYÚSCULAS con guiones bajos\n",
    "PI = 3.14159\n",
    "\n",
    "VELOCIDAD_LUZ = 299792458  # metros por segundo\n",
    "\n",
    "MAX_USUARIOS = 100\n",
    "\n",
    "MENSAJE_BIENVENIDA = \"¡Hola, bienvenido!\""
   ]
  },
  {
   "cell_type": "code",
   "execution_count": 13,
   "id": "33f437aa-d95a-479d-89fb-f9b3e71f57c8",
   "metadata": {},
   "outputs": [
    {
     "name": "stdout",
     "output_type": "stream",
     "text": [
      "3.14159\n"
     ]
    }
   ],
   "source": [
    "PI = 3.14159\n",
    "\n",
    "print(PI)"
   ]
  },
  {
   "cell_type": "markdown",
   "id": "923d3ffa-ea67-4b1a-b783-77cd49cda495",
   "metadata": {},
   "source": [
    "# Tipo de datos primitivos\n",
    "\n",
    "En Python, los tipos de datos primitivos son los más básicos, aquellos con los que se construyen estructuras más complejas. Los principales son:\n",
    "\n",
    "* Enteros (int),  Números sin parte decimal.\n",
    "\n",
    "        Ejemplo: 10, -5, 2025\n",
    "\n",
    "* Números de punto flotante (float), Números con decimales o en notación científica.\n",
    "\n",
    "        Ejemplo: 3.14, -0.5, 1.2e3\n",
    "\n",
    "* Booleanos (bool), Representan valores lógicos: True o False. Usados en condiciones y estructuras de control.\n",
    "\n",
    "* Cadenas de texto (str), Secuencia de caracteres entre comillas simples o dobles.\n",
    "\n",
    "        Ejemplo: \"Hola\", 'Python'\n",
    "\n",
    "* Nulos (NoneType), Representa la ausencia de valor.\n",
    "\n",
    "        Ejemplo: None"
   ]
  },
  {
   "cell_type": "code",
   "execution_count": 15,
   "id": "11de7899-614b-4e46-9609-ce1f39fae6b2",
   "metadata": {},
   "outputs": [],
   "source": [
    "entero = 1024\n",
    "flotante = 10.123123\n",
    "texto = \"Hola, esto es una cadena de texto\"\n",
    "booleano = True\n",
    "Nulo = None"
   ]
  },
  {
   "cell_type": "markdown",
   "id": "8e344cef-f350-4440-b322-7ce3f08480be",
   "metadata": {},
   "source": [
    "# TYPE\n",
    "\n",
    "La función type() se utiliza para conocer el tipo de dato de un objeto en Python.\n"
   ]
  },
  {
   "cell_type": "code",
   "execution_count": 17,
   "id": "7dc2c02c-f4cc-4bec-a5ce-5020aff43ad1",
   "metadata": {},
   "outputs": [
    {
     "name": "stdout",
     "output_type": "stream",
     "text": [
      "<class 'int'>\n",
      "<class 'bool'>\n"
     ]
    }
   ],
   "source": [
    "print(  type(entero) )\n",
    "\n",
    "print (  type(booleano) ) "
   ]
  },
  {
   "cell_type": "markdown",
   "id": "c8bdef13-b9d8-41c2-9caf-8dab56bef0e5",
   "metadata": {},
   "source": [
    "Operadores aritméticos, lógicos y de comparación"
   ]
  },
  {
   "cell_type": "code",
   "execution_count": 17,
   "id": "8b99111a-ce84-4b9b-b622-c8a9cddef24b",
   "metadata": {},
   "outputs": [
    {
     "name": "stdout",
     "output_type": "stream",
     "text": [
      "<class 'str'>\n"
     ]
    }
   ],
   "source": [
    "print ( type(texto) )"
   ]
  },
  {
   "cell_type": "markdown",
   "id": "b17c9947-566c-4b0f-ac07-1cee0a94387f",
   "metadata": {},
   "source": [
    "# input\n",
    "\n",
    "La función input() permite leer datos ingresados por el usuario a través del teclado.\n",
    "\n",
    "\n",
    "input(\"prompt\")\n",
    "\n",
    "Siempre devuelve lo que el usuario teclea como una cadena de texto (str).\n",
    "\n"
   ]
  },
  {
   "cell_type": "code",
   "execution_count": 18,
   "id": "70cee610-06b6-4cec-be71-119d4351269b",
   "metadata": {},
   "outputs": [
    {
     "name": "stdin",
     "output_type": "stream",
     "text": [
      "Cual es tu edad 20\n"
     ]
    },
    {
     "name": "stdout",
     "output_type": "stream",
     "text": [
      "<class 'str'>\n"
     ]
    }
   ],
   "source": [
    "edad = input(\"Cual es tu edad\")\n",
    "\n",
    "print ( type(edad) )"
   ]
  },
  {
   "cell_type": "markdown",
   "id": "18730cb5-0c33-4f0f-90e6-410e85103347",
   "metadata": {},
   "source": [
    "# Conversión de tipos\n",
    "\n",
    "La conversión de tipos consiste en transformar un dato de un tipo a otro. \n",
    "\n",
    "Python permite hacerlo de forma sencilla con funciones integradas.\n",
    "\n",
    "De número a cadena (str)\n",
    "\n",
    "De cadena a entero (int)\n",
    "\n",
    "De cadena a flotante (float)\n",
    "\n",
    "De número a booleano (bool)\n"
   ]
  },
  {
   "cell_type": "code",
   "execution_count": 19,
   "id": "5e1502f0-6d82-4f4b-a37f-72afd89d1213",
   "metadata": {},
   "outputs": [
    {
     "name": "stdout",
     "output_type": "stream",
     "text": [
      "<class 'str'>\n",
      "<class 'float'>\n"
     ]
    },
    {
     "name": "stdin",
     "output_type": "stream",
     "text": [
      "¿Cual es tu edad? 20\n"
     ]
    },
    {
     "name": "stdout",
     "output_type": "stream",
     "text": [
      "<class 'int'>\n"
     ]
    }
   ],
   "source": [
    "variable_1 = \"10.2\"\n",
    "print(type(variable_1))\n",
    "\n",
    "variable_2 = float(variable_1)\n",
    "print(type(variable_2))\n",
    "\n",
    "edad = int(input(\"¿Cual es tu edad?\"))\n",
    "print(type(edad))"
   ]
  },
  {
   "cell_type": "markdown",
   "id": "ac19e8ca-7580-41e3-a307-004396a20077",
   "metadata": {},
   "source": [
    "# Operaciones Aritmeticas\n",
    "\n",
    "| Operador | Descripción                     | Ejemplo   | Resultado  |\n",
    "| -------- | ------------------------------- | --------- | ---------- |\n",
    "| `+`      | Suma                            | `5 + 3`   | `8`        |\n",
    "| `-`      | Resta                           | `10 - 4`  | `6`        |\n",
    "| `*`      | Multiplicación                  | `6 * 7`   | `42`       |\n",
    "| `/`      | División (devuelve `float`)     | `10 / 3`  | `3.333...` |\n",
    "| `//`     | División entera (sin decimales) | `10 // 3` | `3`        |\n",
    "| `%`      | Módulo (residuo de la división) | `10 % 3`  | `1`        |\n",
    "| `**`     | Exponenciación (potencia)       | `2 ** 3`  | `8`        |\n"
   ]
  },
  {
   "cell_type": "code",
   "execution_count": 21,
   "id": "cbea1f3c-ea17-424b-b9c9-294e4ccc917a",
   "metadata": {},
   "outputs": [
    {
     "name": "stdout",
     "output_type": "stream",
     "text": [
      "Suma : 4\n",
      "Resta: 2\n",
      "Multiplicacion: 123200\n",
      "Division: 30437.666666666668\n",
      "Division sin decimales: 202462\n",
      "Modulo: 0\n",
      "Exponente: 8\n"
     ]
    }
   ],
   "source": [
    "suma = 2 + 2\n",
    "print(f\"Suma : {suma}\")\n",
    "\n",
    "resta = 10 - 8 \n",
    "print(f\"Resta: {resta}\")\n",
    "\n",
    "multiplicacion = 100 * 1232\n",
    "print(f\"Multiplicacion: {multiplicacion}\" )\n",
    "\n",
    "division = 91313 / 3\n",
    "print(f\"Division: {division}\" )\n",
    "\n",
    "division2 = 1012312 // 5\n",
    "print(f\"Division sin decimales: {division2}\")\n",
    "\n",
    "modulo = 9 % 3\n",
    "print(f\"Modulo: {modulo}\")\n",
    "\n",
    "exponente = 2 ** 3\n",
    "print(f\"Exponente: {exponente}\")"
   ]
  },
  {
   "cell_type": "markdown",
   "id": "deb8d10e-34df-46aa-b4f9-b7a731f97ed8",
   "metadata": {},
   "source": [
    "# Ejercicio de ejemplo 1\n",
    "\n",
    "Instrucciones\n",
    "\n",
    "Pide al usuario su nombre y su edad con input().\n",
    "\n",
    "Convierte la edad a entero con int().\n",
    "\n",
    "Calcula en qué año cumplirá 100 años (operaciones aritméticas).\n",
    "\n",
    "Muestra los resultados usando print().\n",
    "\n",
    "Verifica los tipos de datos con type()."
   ]
  },
  {
   "cell_type": "code",
   "execution_count": 23,
   "id": "276192e3-39d8-45f7-884f-3890374b7a61",
   "metadata": {},
   "outputs": [
    {
     "name": "stdin",
     "output_type": "stream",
     "text": [
      "Nombre Mau\n",
      "Edad 30\n"
     ]
    },
    {
     "name": "stdout",
     "output_type": "stream",
     "text": [
      "30\n",
      "2095\n",
      "<class 'int'>\n"
     ]
    }
   ],
   "source": [
    "nombre =  input(\"Nombre\")\n",
    "edad = int(input(\"Edad\"))\n",
    "anio = 2025 + (100 - edad)\n",
    "\n",
    "print(edad)\n",
    "\n",
    "print(anio)\n",
    "\n",
    "\n",
    "print( type(edad)  )\n",
    "\n",
    "\n",
    "\n",
    "\n",
    "\n",
    "\n",
    "\n",
    "\n",
    "\n"
   ]
  },
  {
   "cell_type": "markdown",
   "id": "263c5c8a-d9e6-4e8f-ae75-923fddf178f2",
   "metadata": {},
   "source": [
    "# Operadores relacionales\n",
    "\n",
    "Sirven para comparar valores y devuelven siempre un resultado booleano\n",
    "\n",
    "| Operador | Significado       | Ejemplo  | Resultado |\n",
    "| -------- | ----------------- | -------- | --------- |\n",
    "| `==`     | Igual a           | `5 == 5` | `True`    |\n",
    "| `!=`     | Distinto de       | `5 != 3` | `True`    |\n",
    "| `>`      | Mayor que         | `7 > 3`  | `True`    |\n",
    "| `<`      | Menor que         | `2 < 8`  | `True`    |\n",
    "| `>=`     | Mayor o igual que | `5 >= 5` | `True`    |\n",
    "| `<=`     | Menor o igual que | `4 <= 6` | `True`    |\n"
   ]
  },
  {
   "cell_type": "code",
   "execution_count": 27,
   "id": "e2acb640-5f80-443f-a6bb-492976e8c24b",
   "metadata": {},
   "outputs": [
    {
     "name": "stdout",
     "output_type": "stream",
     "text": [
      "True\n"
     ]
    }
   ],
   "source": [
    "\n",
    "edad = 25\n",
    "\n",
    "print(  edad != 20 )\n"
   ]
  },
  {
   "cell_type": "markdown",
   "id": "d2d6886e-55ce-403c-8685-3280e4d18c85",
   "metadata": {},
   "source": [
    "# Operadores lógicos\n",
    "\n",
    "Los operadores lógicos permiten combinar expresiones booleanas (True / False).\n",
    "\n",
    "| Operador | Descripción                                                | Ejemplo                | Resultado |\n",
    "| -------- | ---------------------------------------------------------- | ---------------------- | --------- |\n",
    "| `and`    | Devuelve `True` si **ambas** condiciones son verdaderas    | `(5 > 2) and (10 > 3)` | `True`    |\n",
    "| `or`     | Devuelve `True` si **al menos una** condición es verdadera | `(5 > 10) or (3 < 8)`  | `True`    |\n",
    "| `not`    | Invierte el valor lógico (negación)                        | `not (5 > 2)`          | `False`   |\n"
   ]
  },
  {
   "cell_type": "code",
   "execution_count": 28,
   "id": "c22655a6-bc8b-4834-8b9d-d3379a4f4ce3",
   "metadata": {},
   "outputs": [
    {
     "name": "stdout",
     "output_type": "stream",
     "text": [
      "True\n"
     ]
    }
   ],
   "source": [
    "print ( (5 > 2) and (10 > 3)  )"
   ]
  },
  {
   "cell_type": "markdown",
   "id": "628e18e0-8e73-4f1f-b9c4-d2aaedc66542",
   "metadata": {},
   "source": [
    "# Control de flujo\n",
    "\n",
    "El control de flujo permite decidir qué instrucciones ejecutar dependiendo de condiciones o repeticiones.\n",
    "\n",
    "\n",
    "### Condicionales (if, elif, else)\n",
    "Sirven para tomar decisiones en el programa.\n",
    "```\n",
    "edad = int(input(\"¿Cuántos años tienes? \"))\n",
    "\n",
    "if edad >= 18:\n",
    "    print(\"Eres mayor de edad.\")\n",
    "elif edad > 12:\n",
    "    print(\"Eres adolescente.\")\n",
    "else:\n",
    "    print(\"Eres niño.\")\n",
    "```\n",
    "    "
   ]
  },
  {
   "cell_type": "code",
   "execution_count": 31,
   "id": "baa1f7cf-f259-43b3-997e-3c6576a0aa4e",
   "metadata": {},
   "outputs": [
    {
     "name": "stdin",
     "output_type": "stream",
     "text": [
      "¿Cuántos años tienes?  20\n"
     ]
    },
    {
     "name": "stdout",
     "output_type": "stream",
     "text": [
      "Eres mayor de edad.\n"
     ]
    }
   ],
   "source": [
    "\n",
    "edad = int(input(\"¿Cuántos años tienes? \"))\n",
    "\n",
    "if edad >= 18:\n",
    "    print(\"Eres mayor de edad.\")\n",
    "elif edad > 12:\n",
    "    print(\"Eres adolescente.\")\n",
    "else:\n",
    "    print(\"Eres niño.\")\n",
    "\n",
    "\n",
    "    \n"
   ]
  },
  {
   "cell_type": "markdown",
   "id": "7bcde201-9c8a-4c40-858d-d665bdead418",
   "metadata": {},
   "source": [
    "### Bucles (for)\n",
    "\n",
    "Se usan para recorrer secuencias (listas, cadenas, rangos).\n",
    "\n",
    "```\n",
    "for i in range(1, 6):\n",
    "    print(f\"Número: {i}\")\n",
    "```"
   ]
  },
  {
   "cell_type": "code",
   "execution_count": 34,
   "id": "256cf23b-1789-498c-a755-1fd8710aa0ab",
   "metadata": {},
   "outputs": [
    {
     "name": "stdout",
     "output_type": "stream",
     "text": [
      "Número: 1\n",
      "Número: 2\n",
      "Número: 3\n",
      "Número: 4\n",
      "Número: 5\n"
     ]
    }
   ],
   "source": [
    "for i in range(1, 6):\n",
    "    print(f\"Número: {i}\")"
   ]
  },
  {
   "cell_type": "markdown",
   "id": "85efbc14-3c05-416e-91fa-e6242ca4b5ca",
   "metadata": {},
   "source": [
    "### Bucles (while)\n",
    "\n",
    "Repite mientras una condición sea verdadera.\n",
    "\n",
    "```\n",
    "contador = 1\n",
    "while contador <= 5:\n",
    "    print(f\"Iteración {contador}\")\n",
    "    contador += 1\n",
    "```"
   ]
  },
  {
   "cell_type": "code",
   "execution_count": 35,
   "id": "129cd9c5-577b-41f0-852b-5e338a67febb",
   "metadata": {},
   "outputs": [
    {
     "name": "stdout",
     "output_type": "stream",
     "text": [
      "Iteración 1\n",
      "Iteración 2\n",
      "Iteración 3\n",
      "Iteración 4\n",
      "Iteración 5\n"
     ]
    }
   ],
   "source": [
    "contador = 1\n",
    "while contador <= 5:\n",
    "    print(f\"Iteración {contador}\")\n",
    "    contador += 1"
   ]
  },
  {
   "cell_type": "markdown",
   "id": "0e31fe4b-aaa4-4671-8b46-4852fd38f905",
   "metadata": {},
   "source": [
    "### Sentencias de control\n",
    "\n",
    "break → interrumpe el bucle.\n",
    "\n",
    "continue → salta a la siguiente iteración.\n",
    "\n",
    "pass → no hace nada (se usa como marcador).\n",
    "\n",
    "```\n",
    "for i in range(1, 6):\n",
    "    if i == 3:\n",
    "        continue   # salta el 3\n",
    "    if i == 5:\n",
    "        break      # termina el bucle\n",
    "    print(i)\n",
    "```"
   ]
  },
  {
   "cell_type": "code",
   "execution_count": 37,
   "id": "a0c3cb31-7717-4720-b9a7-22ddab45ec43",
   "metadata": {},
   "outputs": [
    {
     "name": "stdout",
     "output_type": "stream",
     "text": [
      "1\n",
      "2\n",
      "4\n"
     ]
    }
   ],
   "source": [
    "for i in range(1, 7):\n",
    "    if i == 3:\n",
    "        continue   # salta el 3\n",
    "    if i == 5:\n",
    "        break      # termina el bucle\n",
    "    print(i)"
   ]
  },
  {
   "cell_type": "markdown",
   "id": "5d6b588b-57ae-41ad-97a1-b23b51d8b915",
   "metadata": {},
   "source": [
    "# Estructura de datos\n",
    "\n",
    "Son formas de organizar, almacenar y manipular información de manera eficiente. \n",
    "\n",
    "Python trae varias integradas:\n",
    "\n",
    "\n",
    "### Listas (list)\n",
    "\n",
    "Ordenadas, mutables (se pueden cambiar) y permiten duplicados.\n",
    "\n",
    "Se definen con [].\n",
    "\n",
    "```\n",
    "lista = [1, 2, 3, 4]\n",
    "\n",
    "frutas = [\"manzana\", \"pera\", \"uva\"]\n",
    "```\n",
    "\n",
    "Metodos de lista\n",
    "\n",
    "| Método                  | Descripción                                                               | Ejemplo                    | Resultado                             |\n",
    "| ----------------------- | ------------------------------------------------------------------------- | -------------------------- | ------------------------------------- |\n",
    "| `append(x)`             | Agrega un elemento al final de la lista                                   | `frutas.append(\"mango\")`   | `['manzana', 'pera', 'uva', 'mango']` |\n",
    "| `insert(i, x)`          | Inserta un elemento en la posición `i`                                    | `frutas.insert(1, \"kiwi\")` | `['manzana', 'kiwi', 'pera', 'uva']`  |\n",
    "| `remove(x)`             | Elimina la primera aparición de `x`                                       | `frutas.remove(\"pera\")`    | `['manzana', 'uva']`                  |\n",
    "| `pop(i)`                | Elimina y devuelve el elemento en la posición `i` (por defecto el último) | `frutas.pop(2)`            | elimina `'uva'`                       |\n",
    "| `sort()`                | Ordena la lista (de menor a mayor)                                        | `numeros.sort()`           | `[1, 3, 5, 8]`                        |\n",
    "| `reverse()`             | Invierte el orden de la lista                                             | `numeros.reverse()`        | `[8, 5, 3, 1]`                        |\n",
    "| `len(lista)`            | Devuelve la cantidad de elementos                                         | `len(frutas)`              | `3`                                   |\n",
    "| `in`                    | Verifica si un valor está en la lista                                     | `\"pera\" in frutas`         | `True` / `False`                      |\n"
   ]
  },
  {
   "cell_type": "code",
   "execution_count": 38,
   "id": "f19a4920-445e-4330-a6b2-67125965d596",
   "metadata": {},
   "outputs": [],
   "source": [
    "lista = [1,2,3]"
   ]
  },
  {
   "cell_type": "code",
   "execution_count": 62,
   "id": "e8c53095-9073-4e26-bde1-59599d0ba8a5",
   "metadata": {},
   "outputs": [
    {
     "name": "stdout",
     "output_type": "stream",
     "text": [
      "4\n",
      "['zanzana', 'pera']\n",
      "False\n"
     ]
    }
   ],
   "source": [
    "print( len(lista) )\n",
    "lista = [1, 2, 3, 4]\n",
    "\n",
    "frutas = [\"zanzana\", \"pera\", \"uva\"]\n",
    "#frutas.sort()\n",
    "\n",
    "print( frutas[:-1] )\n",
    "\n",
    "print(\"zana\" in frutas)"
   ]
  },
  {
   "cell_type": "markdown",
   "id": "4a0d4009-7d32-4eb6-9fd8-6131ce532221",
   "metadata": {},
   "source": [
    "### Tuplas (tuple)\n",
    "\n",
    "Ordenadas, inmutables (no se pueden modificar).\n",
    "\n",
    "Se definen con ().\n",
    "\n",
    "```\n",
    "coordenadas = (10, 20)\n",
    "print(coordenadas[1])   # 20\n",
    "```"
   ]
  },
  {
   "cell_type": "code",
   "execution_count": 64,
   "id": "f8e25b80-ca1e-4da7-836b-6cf8be8c5478",
   "metadata": {},
   "outputs": [
    {
     "name": "stdout",
     "output_type": "stream",
     "text": [
      "20\n"
     ]
    },
    {
     "ename": "TypeError",
     "evalue": "'tuple' object does not support item assignment",
     "output_type": "error",
     "traceback": [
      "\u001b[0;31m---------------------------------------------------------------------------\u001b[0m",
      "\u001b[0;31mTypeError\u001b[0m                                 Traceback (most recent call last)",
      "Cell \u001b[0;32mIn[64], line 5\u001b[0m\n\u001b[1;32m      1\u001b[0m coordenadas \u001b[38;5;241m=\u001b[39m (\u001b[38;5;241m10\u001b[39m, \u001b[38;5;241m20\u001b[39m)\n\u001b[1;32m      2\u001b[0m \u001b[38;5;28mprint\u001b[39m(coordenadas[\u001b[38;5;241m1\u001b[39m])   \u001b[38;5;66;03m# 20\u001b[39;00m\n\u001b[0;32m----> 5\u001b[0m \u001b[43mcoordenadas\u001b[49m\u001b[43m[\u001b[49m\u001b[38;5;241;43m1\u001b[39;49m\u001b[43m]\u001b[49m\u001b[38;5;241m=\u001b[39m \u001b[38;5;241m30\u001b[39m\n",
      "\u001b[0;31mTypeError\u001b[0m: 'tuple' object does not support item assignment"
     ]
    }
   ],
   "source": [
    "coordenadas = (10, 20)\n",
    "print(coordenadas[1])   # 20\n",
    "\n",
    "\n",
    "coordenadas[1]= 30"
   ]
  },
  {
   "cell_type": "markdown",
   "id": "ec907a8e-3cbf-4d19-b9b5-f78c9e0d428e",
   "metadata": {},
   "source": [
    "# Diccionario (dict)\n",
    "\n",
    "Un diccionario es una colección no ordenada, mutable y formada por pares clave : valor.\n",
    "\n",
    "* Las claves deben ser únicas (no se repiten).\n",
    "\n",
    "* Los valores pueden ser de cualquier tipo (números, cadenas, listas, otros diccionarios).\n",
    "\n",
    "* Se definen con llaves {}.\n",
    "\n",
    "```\n",
    "persona = {\n",
    "    \"nombre\": \"Ana\",\n",
    "    \"edad\": 25,\n",
    "    \"ciudad\": \"Monterrey\"\n",
    "}\n",
    "```"
   ]
  },
  {
   "cell_type": "code",
   "execution_count": 68,
   "id": "21d170a4-4e3f-46cf-b690-b2d4f1795823",
   "metadata": {},
   "outputs": [
    {
     "name": "stdout",
     "output_type": "stream",
     "text": [
      "Ana\n",
      "{'nombre': 'Ana', 'edad': 25, 'ciudad': 'Monterrey', 'otro': 'otro'}\n"
     ]
    }
   ],
   "source": [
    "persona = {\n",
    "    \"nombre\": \"Ana\",\n",
    "    \"edad\": 25,\n",
    "    \"ciudad\": \"Monterrey\"\n",
    "}\n",
    "\n",
    "\n",
    "print( persona[\"nombre\"] )\n",
    "\n",
    "persona[\"otro\"] = \"otro\"\n",
    "\n",
    "print(persona)\n"
   ]
  }
 ],
 "metadata": {
  "kernelspec": {
   "display_name": "Python 3 (ipykernel)",
   "language": "python",
   "name": "python3"
  },
  "language_info": {
   "codemirror_mode": {
    "name": "ipython",
    "version": 3
   },
   "file_extension": ".py",
   "mimetype": "text/x-python",
   "name": "python",
   "nbconvert_exporter": "python",
   "pygments_lexer": "ipython3",
   "version": "3.9.6"
  }
 },
 "nbformat": 4,
 "nbformat_minor": 5
}
